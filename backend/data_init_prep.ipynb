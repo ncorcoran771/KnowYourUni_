{
  "cells": [
    {
      "cell_type": "markdown",
      "metadata": {},
      "source": [
        "# UMBC Academic Graph — Synthetic Data EDA (from local generator)\n",
        "\n",
        "This notebook walks **cell-by-cell** through:\n",
        "1. Importing the local generator `generate_synthetic_data.py`\n",
        "2. Generating data (dict **and** CSVs)\n",
        "3. Loading CSVs into pandas\n",
        "4. Basic analysis / quick visuals (students, courses, grades)\n",
        "5. A tiny NetworkX projection (courses + prerequisites) for graph stats\n",
        "\n",
        "Run the cells in order. Charts use plain **matplotlib**."
      ]
    },
    {
      "cell_type": "code",
      "execution_count": null,
      "id": "4091f5ae",
      "metadata": {},
      "outputs": [],
      "source": [
        "# --- Setup (run once) ---\n",
        "%pip install -q pandas numpy matplotlib networkx\n",
        "import os, sys, json, importlib.util, pathlib\n",
        "import pandas as pd\n",
        "import numpy as np\n",
        "import matplotlib.pyplot as plt\n",
        "import networkx as nx\n",
        "plt.rcParams['figure.figsize'] = (9,6)\n",
        "pd.set_option('display.max_columns', 120)\n",
        "\n",
        "# Point to the generator script (adjust if you moved it)\n",
        "GEN_PATH = pathlib.Path('../generate_synthetic_data.py')\n",
        "assert GEN_PATH.exists(), f\"Generator not found at {GEN_PATH}\"\n",
        "\n",
        "spec = importlib.util.spec_from_file_location(\"synthgen\", str(GEN_PATH))\n",
        "synthgen = importlib.util.module_from_spec(spec)\n",
        "spec.loader.exec_module(synthgen)\n",
        "print(\"Loaded:\", synthgen.__name__)"
      ]
    },
    {
      "cell_type": "markdown",
      "id": "5d51825e",
      "metadata": {},
      "source": [
        "## 1) Generate synthetic data\n",
        "We call the generator's functions to build the in-memory dataset, then export CSVs for easy loading/EDA."
      ]
    },
    {
      "cell_type": "code",
      "execution_count": null,
      "id": "7081cd52",
      "metadata": {},
      "outputs": [],
      "source": [
        "# Build everything using the script's functions\n",
        "terms = synthgen.generate_terms()\n",
        "students = synthgen.generate_students()\n",
        "faculty, faculty_by_dept = synthgen.generate_faculty()\n",
        "courses, dept_courses = synthgen.generate_courses(faculty_by_dept)\n",
        "degrees, requirement_groups = synthgen.generate_degrees(dept_courses)\n",
        "prereqs = synthgen.generate_prerequisites(courses)\n",
        "leads_to = synthgen.generate_leads_to_relationships(courses, prereqs)\n",
        "sim_content, sim_difficulty = synthgen.generate_course_similarity(courses)\n",
        "student_degree = synthgen.generate_student_degree_relationships(students, degrees)\n",
        "teaching = synthgen.generate_teaching_relationships(faculty_by_dept, courses)\n",
        "completed, enrolled = synthgen.generate_student_course_history(students, courses, terms, prereqs)\n",
        "textbooks, course_textbooks = synthgen.generate_textbooks(courses)\n",
        "interactions, page_views = synthgen.generate_textbook_interactions(\n",
        "    students, courses, textbooks, course_textbooks, terms, completed\n",
        ")\n",
        "learning_style_sim, performance_sim = synthgen.generate_student_similarity(students, completed)\n",
        "\n",
        "# IMPORTANT: use the exact keys export_to_csv expects\n",
        "data = {\n",
        "    \"terms\": terms,\n",
        "    \"students\": students,\n",
        "    \"faculty\": faculty,\n",
        "    \"courses\": courses,\n",
        "    \"degrees\": degrees,\n",
        "    \"requirement_groups\": requirement_groups,\n",
        "    \"prerequisites\": prereqs,\n",
        "    \"leads_to\": leads_to,\n",
        "    \"similarity_content\": sim_content,\n",
        "    \"similarity_difficulty\": sim_difficulty,\n",
        "    \"student_degree\": student_degree,\n",
        "    \"teaching\": teaching,\n",
        "    \"completed_courses\": completed,\n",
        "    \"enrolled_courses\": enrolled,\n",
        "    \"textbooks\": textbooks,\n",
        "    \"course_textbooks\": course_textbooks,\n",
        "    \"textbook_interactions\": interactions,  # <-- rename fix\n",
        "    \"page_views\": page_views,\n",
        "    \"learning_style_similarity\": learning_style_sim,\n",
        "    \"performance_similarity\": performance_sim,\n",
        "}\n",
        "\n",
        "# (Optional) quick validation so you catch any other mismatches early\n",
        "required_keys = {\n",
        "    \"terms\",\"students\",\"faculty\",\"courses\",\"degrees\",\"requirement_groups\",\n",
        "    \"prerequisites\",\"leads_to\",\"similarity_content\",\"similarity_difficulty\",\n",
        "    \"student_degree\",\"teaching\",\"completed_courses\",\"enrolled_courses\",\n",
        "    \"textbooks\",\"course_textbooks\",\"textbook_interactions\",\"page_views\",\n",
        "    \"learning_style_similarity\",\"performance_similarity\"\n",
        "}\n",
        "missing = sorted(required_keys - set(data.keys()))\n",
        "assert not missing, f\"Missing keys for export_to_csv: {missing}\"\n"
      ]
    },
    {
      "cell_type": "code",
      "execution_count": null,
      "id": "6f6fdd03",
      "metadata": {},
      "outputs": [],
      "source": [
        "OUT_DIR = \"umbc_data\"\n",
        "synthgen.export_to_csv(data, OUT_DIR)\n",
        "sorted(os.listdir(OUT_DIR))"
      ]
    },
    {
      "cell_type": "markdown",
      "metadata": {},
      "source": [
        "## 2) Load CSVs to pandas\n",
        "This mirrors how you might inspect data before pushing into Neo4j or ML feature pipelines."
      ]
    },
    {
      "cell_type": "code",
      "execution_count": null,
      "metadata": {},
      "outputs": [],
      "source": [
        "%pip install pandas\n",
        "import pandas as pd\n",
        "import os\n",
        "OUT_DIR = \"umbc_data\"\n",
        "\n",
        "def load_df(name):\n",
        "    return pd.read_csv(os.path.join(OUT_DIR, name))\n",
        "\n",
        "students_df = load_df('students.csv')\n",
        "courses_df = load_df('courses.csv')\n",
        "degrees_df = load_df('degrees.csv')\n",
        "terms_df = load_df('terms.csv')\n",
        "faculty_df = load_df('faculty.csv')\n",
        "req_df = load_df('requirement_groups.csv')\n",
        "prereq_df = load_df('prerequisites.csv')\n",
        "leads_df = load_df('leads_to.csv')\n",
        "simc_df = load_df('course_similarity_content.csv')\n",
        "simd_df = load_df('course_similarity_difficulty.csv')\n",
        "stu_deg_df = load_df('student_degree.csv')\n",
        "teach_df = load_df('teaching.csv') if os.path.exists(os.path.join(OUT_DIR,'teaching.csv')) else None\n",
        "completed_df = load_df('completed_courses.csv')\n",
        "enrolled_df = load_df('enrolled_courses.csv')\n",
        "\n",
        "print(students_df.shape, courses_df.shape, completed_df.shape)  # sanity check\n",
        "students_df.head(3)"
      ]
    },
    {
      "cell_type": "markdown",
      "metadata": {},
      "source": [
        "## 3) Quick distributions & sanity plots\n",
        "* Students by learning style and instruction preference\n",
        "* Course level/difficulty/time\n",
        "* Grade distribution (from `completed_courses.csv`)"
      ]
    },
    {
      "cell_type": "code",
      "execution_count": null,
      "metadata": {},
      "outputs": [],
      "source": [
        "# Students by learning style\n",
        "students_df['learningStyle'].value_counts().plot(kind='bar'); plt.title('Learning Style (count)'); plt.xlabel(''); plt.show()\n",
        "\n",
        "# Instruction mode preference\n",
        "students_df['preferredInstructionMode'].value_counts().plot(kind='bar'); plt.title('Preferred Instruction Mode'); plt.xlabel(''); plt.show()\n",
        "\n",
        "# Course level distribution\n",
        "courses_df['level:int' if 'level:int' in courses_df.columns else 'level'].plot.hist(bins=[100,200,300,400,500]); plt.title('Course Levels'); plt.show()\n",
        "\n",
        "# Difficulty vs time commitment\n",
        "xcol = 'avgDifficulty:float' if 'avgDifficulty:float' in courses_df.columns else 'avgDifficulty'\n",
        "ycol = 'avgTimeCommitment:int' if 'avgTimeCommitment:int' in courses_df.columns else 'avgTimeCommitment'\n",
        "courses_df.plot.scatter(x=xcol, y=ycol); plt.title('Difficulty vs Time Commitment'); plt.show()\n",
        "\n",
        "# Grades distribution\n",
        "completed_df['grade'].value_counts().plot(kind='bar'); plt.title('Grade Distribution'); plt.xlabel(''); plt.show()"
      ]
    },
    {
      "cell_type": "markdown",
      "metadata": {},
      "source": [
        "## 4) Simple derived metrics\n",
        "Map letter grades to GPA, compute per-student GPA, and join with learning style to spot patterns."
      ]
    },
    {
      "cell_type": "code",
      "execution_count": null,
      "metadata": {},
      "outputs": [],
      "source": [
        "grade_map = {\"A\":4.0,\"A-\":3.7,\"B+\":3.3,\"B\":3.0,\"B-\":2.7,\"C+\":2.3,\"C\":2.0,\"C-\":1.7,\n",
        "             \"D+\":1.3,\"D\":1.0,\"D-\":0.7,\"F\":0.0,\"W\":0.0}\n",
        "completed_df['gpa'] = completed_df['grade'].map(grade_map).fillna(0)\n",
        "stu_gpa = completed_df.groupby('studentId').agg(gpa_mean=('gpa','mean'), n_courses=('courseId','count')).reset_index()\n",
        "merged = students_df.merge(stu_gpa, left_on='id:ID(Student)' if 'id:ID(Student)' in students_df.columns else 'id', right_on='studentId', how='left')\n",
        "merged['gpa_mean'] = merged['gpa_mean'].fillna(0)\n",
        "merged[['learningStyle','gpa_mean']].groupby('learningStyle').mean().plot(kind='bar'); plt.title('Mean GPA by Learning Style'); plt.xlabel(''); plt.show()\n",
        "merged[['preferredCourseLoad:int' if 'preferredCourseLoad:int' in merged.columns else 'preferredCourseLoad','gpa_mean']].plot.scatter(x=merged.columns[merged.columns.str.contains('preferredCourseLoad')][0], y='gpa_mean'); plt.title('GPA vs Preferred Course Load'); plt.show()"
      ]
    },
    {
      "cell_type": "markdown",
      "metadata": {},
      "source": [
        "## 5) Tiny course graph (NetworkX)\n",
        "Use prerequisites to make a directed course graph, compute centralities, and peek at a subgraph plot."
      ]
    },
    {
      "cell_type": "code",
      "execution_count": null,
      "metadata": {},
      "outputs": [],
      "source": [
        "# Build directed graph from prerequisites\n",
        "G = nx.DiGraph()\n",
        "cid_col = 'id:ID(Course)' if 'id:ID(Course)' in courses_df.columns else 'id'\n",
        "G.add_nodes_from(courses_df[cid_col].tolist())\n",
        "scol = ':START_ID(Course)'\n",
        "tcol = ':END_ID(Course)'\n",
        "for _, r in prereq_df.iterrows():\n",
        "    G.add_edge(r[scol], r[tcol], type='PREREQUISITE_FOR')\n",
        "\n",
        "print(nx.info(G))\n",
        "\n",
        "# Centrality (basic)\n",
        "deg_c = nx.degree_centrality(G)\n",
        "pr_c = nx.pagerank(G) if G.number_of_edges() > 0 else {n:0 for n in G.nodes}\n",
        "cen_df = pd.DataFrame({\n",
        "    'courseId': list(deg_c.keys()),\n",
        "    'deg': list(deg_c.values()),\n",
        "    'pr': [pr_c.get(n,0) for n in deg_c.keys()],\n",
        "}).sort_values('pr', ascending=False)\n",
        "cen_df.head(10)"
      ]
    },
    {
      "cell_type": "code",
      "execution_count": null,
      "metadata": {},
      "outputs": [],
      "source": [
        "# Visualize a small subgraph (top PageRank courses)\n",
        "top_nodes = cen_df.head(20)['courseId'].tolist()\n",
        "H = G.subgraph(top_nodes).copy()\n",
        "pos = nx.spring_layout(H, seed=0)\n",
        "nx.draw(H, pos, with_labels=False, node_size=120)\n",
        "plt.title('Top-PR Course Subgraph'); plt.show()"
      ]
    },
    {
      "cell_type": "markdown",
      "metadata": {},
      "source": [
        "## 6) Course outcomes by difficulty/time\n",
        "Join course metadata to completions and see how pass rate varies with difficulty/time."
      ]
    },
    {
      "cell_type": "code",
      "execution_count": null,
      "metadata": {},
      "outputs": [],
      "source": [
        "courses_df_columns = courses_df.columns\n",
        "avgdiff_col = 'avgDifficulty:float' if 'avgDifficulty:float' in courses_df_columns else 'avgDifficulty'\n",
        "avgtime_col = 'avgTimeCommitment:int' if 'avgTimeCommitment:int' in courses_df_columns else 'avgTimeCommitment'\n",
        "\n",
        "cid = 'id:ID(Course)' if 'id:ID(Course)' in courses_df_columns else 'id'\n",
        "tmp = completed_df.merge(courses_df[[cid, avgdiff_col, avgtime_col]], left_on='courseId', right_on=cid, how='left')\n",
        "tmp['passed'] = (tmp['grade'].map({'A':1,'A-':1,'B+':1,'B':1,'B-':1,'C+':1,'C':1,'C-':1,'D+':1,'D':1,'D-':1}).fillna(0)).astype(int)\n",
        "agg = tmp.groupby([avgdiff_col, pd.cut(tmp[avgtime_col], bins=[0,5,10,15,20,100])])['passed'].mean().reset_index()\n",
        "agg_pivot = agg.pivot(index=avgdiff_col, columns=''+str(agg.columns[1]), values='passed')\n",
        "agg_pivot.fillna(0).plot(kind='bar'); plt.title('Pass Rate by Difficulty and Time Bin'); plt.xlabel('avgDifficulty'); plt.ylabel('Pass rate'); plt.show()"
      ]
    },
    {
      "cell_type": "markdown",
      "metadata": {},
      "source": [
        "## 7) Where to take this next\n",
        "- Export this feature table for ML (e.g., pass prediction)\n",
        "- Build Node2Vec/GraphSAGE embeddings on the course graph and join back\n",
        "- Add fairness slices (aid status, instruction mode)\n",
        "- Link prediction sketch using pairs from `enrolled_courses.csv` vs historical completions"
      ]
    }
  ],
  "metadata": {
    "kernelspec": {
      "display_name": ".venv (3.12.3)",
      "language": "python",
      "name": "python3"
    },
    "language_info": {
      "codemirror_mode": {
        "name": "ipython",
        "version": 3
      },
      "file_extension": ".py",
      "mimetype": "text/x-python",
      "name": "python",
      "nbconvert_exporter": "python",
      "pygments_lexer": "ipython3",
      "version": "3.12.3"
    }
  },
  "nbformat": 4,
  "nbformat_minor": 5
}
